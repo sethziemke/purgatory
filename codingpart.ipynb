{
 "cells": [
  {
   "cell_type": "code",
   "execution_count": 2,
   "metadata": {},
   "outputs": [
    {
     "name": "stdin",
     "output_type": "stream",
     "text": [
      "If you had 3 children, what would the name of the middle child be? rufus\n"
     ]
    },
    {
     "name": "stdout",
     "output_type": "stream",
     "text": [
      "rufus huh. unoriginal\n"
     ]
    }
   ],
   "source": [
    "name = input(\"If you had 3 children, what would the name of the middle child be?\")\n",
    "print(name,\"huh. unoriginal\")"
   ]
  },
  {
   "cell_type": "code",
   "execution_count": null,
   "metadata": {},
   "outputs": [],
   "source": []
  }
 ],
 "metadata": {
  "kernelspec": {
   "display_name": "Python 3.7",
   "language": "python",
   "name": "python3"
  },
  "language_info": {
   "codemirror_mode": {
    "name": "ipython",
    "version": 3
   },
   "file_extension": ".py",
   "mimetype": "text/x-python",
   "name": "python",
   "nbconvert_exporter": "python",
   "pygments_lexer": "ipython3",
   "version": "3.7.0"
  }
 },
 "nbformat": 4,
 "nbformat_minor": 2
}
